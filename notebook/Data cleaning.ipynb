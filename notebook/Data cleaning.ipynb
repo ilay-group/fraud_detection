{
 "cells": [
  {
   "cell_type": "markdown",
   "id": "d72ee685-d13f-4c15-b678-7389497c2923",
   "metadata": {},
   "source": [
    "Установка зависимостей"
   ]
  },
  {
   "cell_type": "code",
   "execution_count": null,
   "id": "dd3079d1",
   "metadata": {
    "scrolled": true
   },
   "outputs": [],
   "source": [
    "!pip install findspark pyspark"
   ]
  },
  {
   "cell_type": "markdown",
   "id": "21b9400c-1adb-44dc-aaf7-e98eb28e611f",
   "metadata": {},
   "source": [
    "Конфигурация переменных для запуска"
   ]
  },
  {
   "cell_type": "code",
   "execution_count": 1,
   "id": "b0cb33d8",
   "metadata": {
    "scrolled": true
   },
   "outputs": [],
   "source": [
    "accesskey=\"YCAJEsF9oa2x1Nc9M-K6LvOQv\"\n",
    "secretkey=\"YCNfV4qnbiRx7zaZ5uzsHB4OoxwdQZa6fC3I1qGD\""
   ]
  },
  {
   "cell_type": "markdown",
   "id": "4f3b1dff-299f-4f46-9ad6-8fe2492e074e",
   "metadata": {},
   "source": [
    "Инициализация сессии спарк"
   ]
  },
  {
   "cell_type": "code",
   "execution_count": 2,
   "id": "769947e0",
   "metadata": {},
   "outputs": [],
   "source": [
    "import findspark\n",
    "findspark.init()"
   ]
  },
  {
   "cell_type": "code",
   "execution_count": 3,
   "id": "977f7a11",
   "metadata": {
    "scrolled": true
   },
   "outputs": [],
   "source": [
    "from pyspark.sql import SparkSession\n",
    "\n",
    "spark = SparkSession.builder \\\n",
    "    .appName(\"TransactionValidation\") \\\n",
    "    .config(\"spark.hadoop.fs.s3a.impl\", \"org.apache.hadoop.fs.s3a.S3AFileSystem\") \\\n",
    "    .config(\"spark.hadoop.fs.s3a.access.key\", accesskey) \\\n",
    "    .config(\"spark.hadoop.fs.s3a.secret.key\", secretkey) \\\n",
    "    .config(\"spark.hadoop.fs.s3a.endpoint\", \"storage.yandexcloud.net\") \\\n",
    "    .config(\"spark.hadoop.fs.s3a.path.style.access\", \"true\") \\\n",
    "    .config(\"spark.sql.repl.eagerEval.enabled\", True) \\\n",
    "    .getOrCreate()"
   ]
  },
  {
   "cell_type": "markdown",
   "id": "1437b4b5-e09d-4ec9-83d8-93f77779e4a8",
   "metadata": {},
   "source": [
    "Указание пути до данных:"
   ]
  },
  {
   "cell_type": "code",
   "execution_count": 4,
   "id": "1fbcace5",
   "metadata": {
    "scrolled": true
   },
   "outputs": [],
   "source": [
    "data_path = \"s3a://qwertyytr/\""
   ]
  },
  {
   "cell_type": "markdown",
   "id": "e98f5f39-0387-45c7-8d50-9bb22bfccc19",
   "metadata": {},
   "source": [
    "Чтение данных с облака:"
   ]
  },
  {
   "cell_type": "code",
   "execution_count": 5,
   "id": "2273a9c3",
   "metadata": {
    "scrolled": true
   },
   "outputs": [],
   "source": [
    "df = spark.read.option(\"comment\", \"#\").option(\"timestampFormat\", \"ууyy-MM-dd HH:mm:ss\") \\\n",
    ".schema(\"transaction_id LONG, tx_datetime STRING, customer_id INT, terminal_id INT, tx_amount DOUBLE, tx_time_seconds LONG, tx_time_days LONG, tx_fraud INT, tx_fraud_scenario INT\") \\\n",
    ".csv(data_path)"
   ]
  },
  {
   "cell_type": "markdown",
   "id": "7abd4702-38aa-40b7-ac9a-e24164a002ef",
   "metadata": {},
   "source": [
    "Вывод первых 20 значений датафрейма:"
   ]
  },
  {
   "cell_type": "code",
   "execution_count": 6,
   "id": "ab2ae4b8",
   "metadata": {},
   "outputs": [
    {
     "data": {
      "text/html": [
       "<table border='1'>\n",
       "<tr><th>transaction_id</th><th>tx_datetime</th><th>customer_id</th><th>terminal_id</th><th>tx_amount</th><th>tx_time_seconds</th><th>tx_time_days</th><th>tx_fraud</th><th>tx_fraud_scenario</th></tr>\n",
       "<tr><td>0</td><td>2019-08-22 06:51:03</td><td>0</td><td>711</td><td>70.91</td><td>24663</td><td>0</td><td>0</td><td>0</td></tr>\n",
       "<tr><td>1</td><td>2019-08-22 05:10:37</td><td>0</td><td>0</td><td>90.55</td><td>18637</td><td>0</td><td>0</td><td>0</td></tr>\n",
       "<tr><td>2</td><td>2019-08-22 19:05:33</td><td>0</td><td>753</td><td>35.38</td><td>68733</td><td>0</td><td>0</td><td>0</td></tr>\n",
       "<tr><td>3</td><td>2019-08-22 07:21:33</td><td>0</td><td>0</td><td>80.41</td><td>26493</td><td>0</td><td>0</td><td>0</td></tr>\n",
       "<tr><td>4</td><td>2019-08-22 09:06:17</td><td>1</td><td>981</td><td>102.83</td><td>32777</td><td>0</td><td>0</td><td>0</td></tr>\n",
       "<tr><td>5</td><td>2019-08-22 18:41:25</td><td>3</td><td>205</td><td>34.2</td><td>67285</td><td>0</td><td>0</td><td>0</td></tr>\n",
       "<tr><td>6</td><td>2019-08-22 03:12:21</td><td>3</td><td>0</td><td>47.2</td><td>11541</td><td>0</td><td>0</td><td>0</td></tr>\n",
       "<tr><td>7</td><td>2019-08-22 22:36:40</td><td>6</td><td>809</td><td>139.39</td><td>81400</td><td>0</td><td>0</td><td>0</td></tr>\n",
       "<tr><td>8</td><td>2019-08-22 17:23:29</td><td>7</td><td>184</td><td>87.24</td><td>62609</td><td>0</td><td>0</td><td>0</td></tr>\n",
       "<tr><td>9</td><td>2019-08-22 21:09:37</td><td>8</td><td>931</td><td>61.7</td><td>76177</td><td>0</td><td>0</td><td>0</td></tr>\n",
       "<tr><td>10</td><td>2019-08-22 11:32:42</td><td>10</td><td>663</td><td>40.71</td><td>41562</td><td>0</td><td>1</td><td>2</td></tr>\n",
       "<tr><td>11</td><td>2019-08-22 03:09:26</td><td>10</td><td>770</td><td>63.91</td><td>11366</td><td>0</td><td>0</td><td>0</td></tr>\n",
       "<tr><td>12</td><td>2019-08-22 15:47:54</td><td>10</td><td>0</td><td>58.89</td><td>56874</td><td>0</td><td>0</td><td>0</td></tr>\n",
       "<tr><td>13</td><td>2019-08-22 21:59:20</td><td>10</td><td>649</td><td>89.24</td><td>79160</td><td>0</td><td>0</td><td>0</td></tr>\n",
       "<tr><td>14</td><td>2019-08-22 20:55:13</td><td>11</td><td>380</td><td>9.89</td><td>75313</td><td>0</td><td>0</td><td>0</td></tr>\n",
       "<tr><td>15</td><td>2019-08-22 16:39:03</td><td>11</td><td>337</td><td>83.36</td><td>59943</td><td>0</td><td>0</td><td>0</td></tr>\n",
       "<tr><td>16</td><td>2019-08-22 23:15:07</td><td>11</td><td>973</td><td>35.12</td><td>83707</td><td>0</td><td>0</td><td>0</td></tr>\n",
       "<tr><td>17</td><td>2019-08-22 07:39:45</td><td>12</td><td>9</td><td>74.0</td><td>27585</td><td>0</td><td>0</td><td>0</td></tr>\n",
       "<tr><td>18</td><td>2019-08-22 05:35:39</td><td>12</td><td>745</td><td>108.63</td><td>20139</td><td>0</td><td>0</td><td>0</td></tr>\n",
       "<tr><td>19</td><td>2019-08-22 10:29:16</td><td>12</td><td>9</td><td>84.45</td><td>37756</td><td>0</td><td>0</td><td>0</td></tr>\n",
       "</table>\n",
       "only showing top 20 rows\n"
      ],
      "text/plain": [
       "+--------------+-------------------+-----------+-----------+---------+---------------+------------+--------+-----------------+\n",
       "|transaction_id|        tx_datetime|customer_id|terminal_id|tx_amount|tx_time_seconds|tx_time_days|tx_fraud|tx_fraud_scenario|\n",
       "+--------------+-------------------+-----------+-----------+---------+---------------+------------+--------+-----------------+\n",
       "|             0|2019-08-22 06:51:03|          0|        711|    70.91|          24663|           0|       0|                0|\n",
       "|             1|2019-08-22 05:10:37|          0|          0|    90.55|          18637|           0|       0|                0|\n",
       "|             2|2019-08-22 19:05:33|          0|        753|    35.38|          68733|           0|       0|                0|\n",
       "|             3|2019-08-22 07:21:33|          0|          0|    80.41|          26493|           0|       0|                0|\n",
       "|             4|2019-08-22 09:06:17|          1|        981|   102.83|          32777|           0|       0|                0|\n",
       "|             5|2019-08-22 18:41:25|          3|        205|     34.2|          67285|           0|       0|                0|\n",
       "|             6|2019-08-22 03:12:21|          3|          0|     47.2|          11541|           0|       0|                0|\n",
       "|             7|2019-08-22 22:36:40|          6|        809|   139.39|          81400|           0|       0|                0|\n",
       "|             8|2019-08-22 17:23:29|          7|        184|    87.24|          62609|           0|       0|                0|\n",
       "|             9|2019-08-22 21:09:37|          8|        931|     61.7|          76177|           0|       0|                0|\n",
       "|            10|2019-08-22 11:32:42|         10|        663|    40.71|          41562|           0|       1|                2|\n",
       "|            11|2019-08-22 03:09:26|         10|        770|    63.91|          11366|           0|       0|                0|\n",
       "|            12|2019-08-22 15:47:54|         10|          0|    58.89|          56874|           0|       0|                0|\n",
       "|            13|2019-08-22 21:59:20|         10|        649|    89.24|          79160|           0|       0|                0|\n",
       "|            14|2019-08-22 20:55:13|         11|        380|     9.89|          75313|           0|       0|                0|\n",
       "|            15|2019-08-22 16:39:03|         11|        337|    83.36|          59943|           0|       0|                0|\n",
       "|            16|2019-08-22 23:15:07|         11|        973|    35.12|          83707|           0|       0|                0|\n",
       "|            17|2019-08-22 07:39:45|         12|          9|     74.0|          27585|           0|       0|                0|\n",
       "|            18|2019-08-22 05:35:39|         12|        745|   108.63|          20139|           0|       0|                0|\n",
       "|            19|2019-08-22 10:29:16|         12|          9|    84.45|          37756|           0|       0|                0|\n",
       "+--------------+-------------------+-----------+-----------+---------+---------------+------------+--------+-----------------+\n",
       "only showing top 20 rows"
      ]
     },
     "execution_count": 6,
     "metadata": {},
     "output_type": "execute_result"
    }
   ],
   "source": [
    "df"
   ]
  },
  {
   "cell_type": "markdown",
   "id": "159d867a-5094-41b2-b15a-2cc5e55226be",
   "metadata": {},
   "source": [
    "Вывод первых 20 найденных дубликатов:"
   ]
  },
  {
   "cell_type": "code",
   "execution_count": 7,
   "id": "0027b477",
   "metadata": {
    "scrolled": true
   },
   "outputs": [
    {
     "data": {
      "text/html": [
       "<table border='1'>\n",
       "<tr><th>transaction_id</th><th>tx_datetime</th><th>customer_id</th><th>terminal_id</th><th>tx_amount</th><th>tx_time_seconds</th><th>tx_time_days</th><th>tx_fraud</th><th>tx_fraud_scenario</th></tr>\n",
       "<tr><td>11100352</td><td>2019-08-29 10:35:09</td><td>88258</td><td>585</td><td>60.39</td><td>642909</td><td>7</td><td>0</td><td>0</td></tr>\n",
       "<tr><td>32923652</td><td>2019-09-12 11:31:23</td><td>21762</td><td>259</td><td>103.54</td><td>1855883</td><td>21</td><td>0</td><td>0</td></tr>\n",
       "<tr><td>10943542</td><td>2019-08-28 11:02:45</td><td>987639</td><td>757</td><td>25.89</td><td>558165</td><td>6</td><td>0</td><td>0</td></tr>\n",
       "<tr><td>17114470</td><td>2019-09-01 14:42:02</td><td>929096</td><td>143</td><td>24.75</td><td>916922</td><td>10</td><td>0</td><td>0</td></tr>\n",
       "<tr><td>4211972</td><td>2019-08-24 16:09:22</td><td>689205</td><td>123</td><td>11.02</td><td>230962</td><td>2</td><td>0</td><td>0</td></tr>\n",
       "<tr><td>2826594</td><td>2019-08-23 16:26:51</td><td>804638</td><td>0</td><td>27.45</td><td>145611</td><td>1</td><td>0</td><td>0</td></tr>\n",
       "<tr><td>9771261</td><td>2019-08-28 15:22:01</td><td>239654</td><td>929</td><td>91.17</td><td>573721</td><td>6</td><td>0</td><td>0</td></tr>\n",
       "<tr><td>44000745</td><td>2019-09-19 12:28:33</td><td>92931</td><td>37</td><td>19.48</td><td>2464113</td><td>28</td><td>0</td><td>0</td></tr>\n",
       "<tr><td>34302649</td><td>2019-09-12 07:45:44</td><td>901706</td><td>139</td><td>34.23</td><td>1842344</td><td>21</td><td>0</td><td>0</td></tr>\n",
       "<tr><td>13685700</td><td>2019-08-30 13:10:59</td><td>739253</td><td>0</td><td>17.99</td><td>738659</td><td>8</td><td>0</td><td>0</td></tr>\n",
       "<tr><td>1054254</td><td>2019-08-22 18:30:52</td><td>673815</td><td>0</td><td>48.27</td><td>66652</td><td>0</td><td>0</td><td>0</td></tr>\n",
       "<tr><td>27959247</td><td>2019-09-08 14:30:54</td><td>851386</td><td>37</td><td>49.0</td><td>1521054</td><td>17</td><td>0</td><td>0</td></tr>\n",
       "<tr><td>23970783</td><td>2019-09-06 11:40:05</td><td>305104</td><td>886</td><td>73.9</td><td>1338005</td><td>15</td><td>0</td><td>0</td></tr>\n",
       "<tr><td>27399545</td><td>2019-09-08 21:54:56</td><td>495043</td><td>650</td><td>113.38</td><td>1547696</td><td>17</td><td>0</td><td>0</td></tr>\n",
       "<tr><td>12118405</td><td>2019-08-29 19:37:15</td><td>738224</td><td>153</td><td>120.51</td><td>675435</td><td>7</td><td>0</td><td>0</td></tr>\n",
       "<tr><td>17757669</td><td>2019-09-02 13:04:48</td><td>340400</td><td>10</td><td>61.05</td><td>997488</td><td>11</td><td>0</td><td>0</td></tr>\n",
       "<tr><td>17859414</td><td>2019-09-02 07:49:51</td><td>405300</td><td>201</td><td>86.6</td><td>978591</td><td>11</td><td>0</td><td>0</td></tr>\n",
       "<tr><td>29731835</td><td>2019-09-09 09:54:56</td><td>983154</td><td>226</td><td>27.5</td><td>1590896</td><td>18</td><td>0</td><td>0</td></tr>\n",
       "<tr><td>24948210</td><td>2019-09-06 11:10:31</td><td>929142</td><td>437</td><td>10.79</td><td>1336231</td><td>15</td><td>0</td><td>0</td></tr>\n",
       "<tr><td>40640668</td><td>2019-09-16 16:17:02</td><td>947287</td><td>562</td><td>753.97</td><td>2218622</td><td>25</td><td>1</td><td>3</td></tr>\n",
       "</table>\n",
       "only showing top 20 rows\n"
      ],
      "text/plain": [
       "+--------------+-------------------+-----------+-----------+---------+---------------+------------+--------+-----------------+\n",
       "|transaction_id|        tx_datetime|customer_id|terminal_id|tx_amount|tx_time_seconds|tx_time_days|tx_fraud|tx_fraud_scenario|\n",
       "+--------------+-------------------+-----------+-----------+---------+---------------+------------+--------+-----------------+\n",
       "|      11100352|2019-08-29 10:35:09|      88258|        585|    60.39|         642909|           7|       0|                0|\n",
       "|      32923652|2019-09-12 11:31:23|      21762|        259|   103.54|        1855883|          21|       0|                0|\n",
       "|      10943542|2019-08-28 11:02:45|     987639|        757|    25.89|         558165|           6|       0|                0|\n",
       "|       4211972|2019-08-24 16:09:22|     689205|        123|    11.02|         230962|           2|       0|                0|\n",
       "|      17114470|2019-09-01 14:42:02|     929096|        143|    24.75|         916922|          10|       0|                0|\n",
       "|       9771261|2019-08-28 15:22:01|     239654|        929|    91.17|         573721|           6|       0|                0|\n",
       "|       2826594|2019-08-23 16:26:51|     804638|          0|    27.45|         145611|           1|       0|                0|\n",
       "|      44000745|2019-09-19 12:28:33|      92931|         37|    19.48|        2464113|          28|       0|                0|\n",
       "|      34302649|2019-09-12 07:45:44|     901706|        139|    34.23|        1842344|          21|       0|                0|\n",
       "|      13685700|2019-08-30 13:10:59|     739253|          0|    17.99|         738659|           8|       0|                0|\n",
       "|       1054254|2019-08-22 18:30:52|     673815|          0|    48.27|          66652|           0|       0|                0|\n",
       "|      27959247|2019-09-08 14:30:54|     851386|         37|     49.0|        1521054|          17|       0|                0|\n",
       "|      23970783|2019-09-06 11:40:05|     305104|        886|     73.9|        1338005|          15|       0|                0|\n",
       "|      17757669|2019-09-02 13:04:48|     340400|         10|    61.05|         997488|          11|       0|                0|\n",
       "|      27399545|2019-09-08 21:54:56|     495043|        650|   113.38|        1547696|          17|       0|                0|\n",
       "|      12118405|2019-08-29 19:37:15|     738224|        153|   120.51|         675435|           7|       0|                0|\n",
       "|      17859414|2019-09-02 07:49:51|     405300|        201|     86.6|         978591|          11|       0|                0|\n",
       "|      29731835|2019-09-09 09:54:56|     983154|        226|     27.5|        1590896|          18|       0|                0|\n",
       "|      24948210|2019-09-06 11:10:31|     929142|        437|    10.79|        1336231|          15|       0|                0|\n",
       "|      40640668|2019-09-16 16:17:02|     947287|        562|   753.97|        2218622|          25|       1|                3|\n",
       "+--------------+-------------------+-----------+-----------+---------+---------------+------------+--------+-----------------+\n",
       "only showing top 20 rows"
      ]
     },
     "execution_count": 7,
     "metadata": {},
     "output_type": "execute_result"
    }
   ],
   "source": [
    "df.exceptAll(df.dropDuplicates(['transaction_id']))"
   ]
  },
  {
   "cell_type": "markdown",
   "id": "6ca5b81d-dc14-4532-9e4f-68670485cc2f",
   "metadata": {},
   "source": [
    "Удаление найденных дубликатов:"
   ]
  },
  {
   "cell_type": "code",
   "execution_count": null,
   "id": "f8c3f00a",
   "metadata": {
    "scrolled": true
   },
   "outputs": [],
   "source": [
    "df=df.dropDuplicates(['transaction_id'])"
   ]
  },
  {
   "cell_type": "markdown",
   "id": "0326360d-0cff-4b08-a41e-1aa767c5b11f",
   "metadata": {},
   "source": [
    "Вывод первых 20 найденных пропусков и отрицательных значений:"
   ]
  },
  {
   "cell_type": "code",
   "execution_count": 8,
   "id": "a670dba2",
   "metadata": {
    "scrolled": true
   },
   "outputs": [
    {
     "data": {
      "text/html": [
       "<table border='1'>\n",
       "<tr><th>transaction_id</th><th>tx_datetime</th><th>customer_id</th><th>terminal_id</th><th>tx_amount</th><th>tx_time_seconds</th><th>tx_time_days</th><th>tx_fraud</th><th>tx_fraud_scenario</th></tr>\n",
       "<tr><td>47392780</td><td>2019-09-21 07:49:27</td><td>-999999</td><td>481</td><td>74.61</td><td>2620167</td><td>30</td><td>0</td><td>0</td></tr>\n",
       "<tr><td>48484096</td><td>2019-09-21 06:34:09</td><td>953746</td><td>null</td><td>48.48</td><td>2615649</td><td>30</td><td>1</td><td>2</td></tr>\n",
       "<tr><td>52992134</td><td>2019-09-24 07:35:00</td><td>830649</td><td>null</td><td>22.15</td><td>2878500</td><td>33</td><td>1</td><td>2</td></tr>\n",
       "<tr><td>81500036</td><td>2019-10-13 12:11:40</td><td>31187</td><td>null</td><td>34.79</td><td>4536700</td><td>52</td><td>0</td><td>0</td></tr>\n",
       "<tr><td>92885348</td><td>2019-10-20 02:30:11</td><td>300876</td><td>null</td><td>22.79</td><td>5106611</td><td>59</td><td>0</td><td>0</td></tr>\n",
       "<tr><td>87456235</td><td>2019-10-16 17:21:55</td><td>834765</td><td>null</td><td>79.1</td><td>4814515</td><td>55</td><td>1</td><td>2</td></tr>\n",
       "<tr><td>89657464</td><td>2019-10-18 12:02:08</td><td>239253</td><td>null</td><td>31.48</td><td>4968128</td><td>57</td><td>0</td><td>0</td></tr>\n",
       "<tr><td>56534717</td><td>2019-09-27 13:07:00</td><td>-999999</td><td>897</td><td>45.6</td><td>3157620</td><td>36</td><td>0</td><td>0</td></tr>\n",
       "<tr><td>78166913</td><td>2019-10-10 16:30:33</td><td>904236</td><td>null</td><td>42.6</td><td>4293033</td><td>49</td><td>0</td><td>0</td></tr>\n",
       "<tr><td>81537708</td><td>2019-10-13 08:57:41</td><td>55265</td><td>null</td><td>44.16</td><td>4525061</td><td>52</td><td>0</td><td>0</td></tr>\n",
       "<tr><td>47440508</td><td>2019-09-21 13:53:24</td><td>-999999</td><td>754</td><td>63.82</td><td>2642004</td><td>30</td><td>0</td><td>0</td></tr>\n",
       "<tr><td>69009200</td><td>2019-10-05 12:38:36</td><td>-999999</td><td>978</td><td>19.36</td><td>3847116</td><td>44</td><td>0</td><td>0</td></tr>\n",
       "<tr><td>84652889</td><td>2019-10-15 07:02:07</td><td>44431</td><td>null</td><td>68.8</td><td>4690927</td><td>54</td><td>0</td><td>0</td></tr>\n",
       "<tr><td>53996700</td><td>2019-09-25 02:53:28</td><td>472784</td><td>null</td><td>64.89</td><td>2948008</td><td>34</td><td>0</td><td>0</td></tr>\n",
       "<tr><td>54025330</td><td>2019-09-25 22:01:58</td><td>-999999</td><td>899</td><td>46.48</td><td>3016918</td><td>34</td><td>0</td><td>0</td></tr>\n",
       "<tr><td>89420239</td><td>2019-10-18 12:22:38</td><td>87186</td><td>null</td><td>11.61</td><td>4969358</td><td>57</td><td>0</td><td>0</td></tr>\n",
       "<tr><td>48418993</td><td>2019-09-21 10:49:46</td><td>912488</td><td>null</td><td>10.05</td><td>2630986</td><td>30</td><td>0</td><td>0</td></tr>\n",
       "<tr><td>85867731</td><td>2019-10-15 09:37:02</td><td>-999999</td><td>246</td><td>28.94</td><td>4700222</td><td>54</td><td>0</td><td>0</td></tr>\n",
       "<tr><td>86548858</td><td>2019-10-16 06:16:21</td><td>255992</td><td>null</td><td>118.27</td><td>4774581</td><td>55</td><td>0</td><td>0</td></tr>\n",
       "<tr><td>61440411</td><td>2019-09-30 13:42:06</td><td>226432</td><td>null</td><td>55.17</td><td>3418926</td><td>39</td><td>0</td><td>0</td></tr>\n",
       "</table>\n",
       "only showing top 20 rows\n"
      ],
      "text/plain": [
       "+--------------+-------------------+-----------+-----------+---------+---------------+------------+--------+-----------------+\n",
       "|transaction_id|        tx_datetime|customer_id|terminal_id|tx_amount|tx_time_seconds|tx_time_days|tx_fraud|tx_fraud_scenario|\n",
       "+--------------+-------------------+-----------+-----------+---------+---------------+------------+--------+-----------------+\n",
       "|      81500036|2019-10-13 12:11:40|      31187|       null|    34.79|        4536700|          52|       0|                0|\n",
       "|      52992134|2019-09-24 07:35:00|     830649|       null|    22.15|        2878500|          33|       1|                2|\n",
       "|      87456235|2019-10-16 17:21:55|     834765|       null|     79.1|        4814515|          55|       1|                2|\n",
       "|      47392780|2019-09-21 07:49:27|    -999999|        481|    74.61|        2620167|          30|       0|                0|\n",
       "|      48484096|2019-09-21 06:34:09|     953746|       null|    48.48|        2615649|          30|       1|                2|\n",
       "|      92885348|2019-10-20 02:30:11|     300876|       null|    22.79|        5106611|          59|       0|                0|\n",
       "|      78166913|2019-10-10 16:30:33|     904236|       null|     42.6|        4293033|          49|       0|                0|\n",
       "|      89657464|2019-10-18 12:02:08|     239253|       null|    31.48|        4968128|          57|       0|                0|\n",
       "|      56534717|2019-09-27 13:07:00|    -999999|        897|     45.6|        3157620|          36|       0|                0|\n",
       "|      69009200|2019-10-05 12:38:36|    -999999|        978|    19.36|        3847116|          44|       0|                0|\n",
       "|      81537708|2019-10-13 08:57:41|      55265|       null|    44.16|        4525061|          52|       0|                0|\n",
       "|      89420239|2019-10-18 12:22:38|      87186|       null|    11.61|        4969358|          57|       0|                0|\n",
       "|      53996700|2019-09-25 02:53:28|     472784|       null|    64.89|        2948008|          34|       0|                0|\n",
       "|      54025330|2019-09-25 22:01:58|    -999999|        899|    46.48|        3016918|          34|       0|                0|\n",
       "|      47440508|2019-09-21 13:53:24|    -999999|        754|    63.82|        2642004|          30|       0|                0|\n",
       "|      84652889|2019-10-15 07:02:07|      44431|       null|     68.8|        4690927|          54|       0|                0|\n",
       "|      48418993|2019-09-21 10:49:46|     912488|       null|    10.05|        2630986|          30|       0|                0|\n",
       "|      61440411|2019-09-30 13:42:06|     226432|       null|    55.17|        3418926|          39|       0|                0|\n",
       "|      85867731|2019-10-15 09:37:02|    -999999|        246|    28.94|        4700222|          54|       0|                0|\n",
       "|      86548858|2019-10-16 06:16:21|     255992|       null|   118.27|        4774581|          55|       0|                0|\n",
       "+--------------+-------------------+-----------+-----------+---------+---------------+------------+--------+-----------------+\n",
       "only showing top 20 rows"
      ]
     },
     "execution_count": 8,
     "metadata": {},
     "output_type": "execute_result"
    }
   ],
   "source": [
    "from pyspark.sql.functions import col\n",
    "df.exceptAll(df.filter(\n",
    "    (col(\"transaction_id\") >= 0) &\n",
    "    (col(\"customer_id\") >= 0) &\n",
    "    (col(\"terminal_id\") >= 0) &\n",
    "    (col(\"tx_amount\") >= 0) &\n",
    "    (col(\"tx_time_seconds\") >= 0) &\n",
    "    (col(\"tx_time_days\") >= 0) &\n",
    "    (col(\"tx_fraud\") >= 0) &\n",
    "    (col(\"tx_fraud_scenario\") >= 0)\n",
    "))"
   ]
  },
  {
   "cell_type": "markdown",
   "id": "f00fb9a6-68de-4fcb-8af5-a315821cacfd",
   "metadata": {},
   "source": [
    "Удаление найденных пропусков и отрицательных значений:"
   ]
  },
  {
   "cell_type": "code",
   "execution_count": null,
   "id": "88ac3ac7",
   "metadata": {
    "scrolled": true
   },
   "outputs": [],
   "source": [
    "from pyspark.sql.functions import col\n",
    "df=df.filter(\n",
    "    (col(\"transaction_id\") >= 0) &\n",
    "    (col(\"customer_id\") >= 0) &\n",
    "    (col(\"terminal_id\") >= 0) &\n",
    "    (col(\"tx_amount\") >= 0) &\n",
    "    (col(\"tx_time_seconds\") >= 0) &\n",
    "    (col(\"tx_time_days\") >= 0) &\n",
    "    (col(\"tx_fraud\") >= 0) &\n",
    "    (col(\"tx_fraud_scenario\") >= 0)\n",
    ")"
   ]
  },
  {
   "cell_type": "markdown",
   "id": "5d613218-7e1c-4436-b10c-f81fe5f1e8f8",
   "metadata": {},
   "source": [
    "Вывод первых 20 найденных неправильных дат:"
   ]
  },
  {
   "cell_type": "code",
   "execution_count": 9,
   "id": "ce720b47",
   "metadata": {
    "scrolled": true
   },
   "outputs": [
    {
     "data": {
      "text/html": [
       "<table border='1'>\n",
       "<tr><th>transaction_id</th><th>tx_datetime</th><th>customer_id</th><th>terminal_id</th><th>tx_amount</th><th>tx_time_seconds</th><th>tx_time_days</th><th>tx_fraud</th><th>tx_fraud_scenario</th></tr>\n",
       "<tr><td>8895993</td><td>2019-08-27 24:00:00</td><td>680343</td><td>312</td><td>119.13</td><td>518400</td><td>5</td><td>0</td><td>0</td></tr>\n",
       "<tr><td>32550907</td><td>2019-09-11 24:00:00</td><td>783981</td><td>132</td><td>9.71</td><td>1814400</td><td>20</td><td>0</td><td>0</td></tr>\n",
       "<tr><td>13334429</td><td>2019-08-30 24:00:00</td><td>515724</td><td>971</td><td>6.82</td><td>777600</td><td>8</td><td>1</td><td>2</td></tr>\n",
       "<tr><td>86040345</td><td>2019-10-15 24:00:00</td><td>931059</td><td>936</td><td>4.42</td><td>4752000</td><td>54</td><td>0</td><td>0</td></tr>\n",
       "<tr><td>32949123</td><td>2019-09-12 24:00:00</td><td>37940</td><td>554</td><td>55.54</td><td>1900800</td><td>21</td><td>0</td><td>0</td></tr>\n",
       "<tr><td>69858189</td><td>2019-10-05 24:00:00</td><td>600054</td><td>352</td><td>9.34</td><td>3888000</td><td>44</td><td>0</td><td>0</td></tr>\n",
       "<tr><td>76299966</td><td>2019-10-09 24:00:00</td><td>711712</td><td>226</td><td>11.2</td><td>4233600</td><td>48</td><td>0</td><td>0</td></tr>\n",
       "<tr><td>24144197</td><td>2019-09-06 24:00:00</td><td>415580</td><td>857</td><td>85.66</td><td>1382400</td><td>15</td><td>1</td><td>2</td></tr>\n",
       "<tr><td>36545600</td><td>2019-09-14 24:00:00</td><td>334010</td><td>527</td><td>44.97</td><td>2073600</td><td>23</td><td>0</td><td>0</td></tr>\n",
       "<tr><td>39761540</td><td>2019-09-16 24:00:00</td><td>386904</td><td>824</td><td>34.95</td><td>2246400</td><td>25</td><td>0</td><td>0</td></tr>\n",
       "<tr><td>22571066</td><td>2019-09-05 24:00:00</td><td>412353</td><td>32</td><td>90.91</td><td>1296000</td><td>14</td><td>0</td><td>0</td></tr>\n",
       "<tr><td>74129820</td><td>2019-10-08 24:00:00</td><td>326795</td><td>80</td><td>35.64</td><td>4147200</td><td>47</td><td>0</td><td>0</td></tr>\n",
       "<tr><td>72742279</td><td>2019-10-07 24:00:00</td><td>440497</td><td>567</td><td>35.39</td><td>4060800</td><td>46</td><td>0</td><td>0</td></tr>\n",
       "<tr><td>28365209</td><td>2019-09-09 24:00:00</td><td>111326</td><td>893</td><td>59.06</td><td>1641600</td><td>18</td><td>0</td><td>0</td></tr>\n",
       "<tr><td>58867527</td><td>2019-09-28 24:00:00</td><td>583076</td><td>146</td><td>79.57</td><td>3283200</td><td>37</td><td>0</td><td>0</td></tr>\n",
       "<tr><td>35795067</td><td>2019-09-13 24:00:00</td><td>854863</td><td>145</td><td>59.7</td><td>1987200</td><td>22</td><td>0</td><td>0</td></tr>\n",
       "<tr><td>35733785</td><td>2019-09-13 24:00:00</td><td>815745</td><td>145</td><td>119.97</td><td>1987200</td><td>22</td><td>0</td><td>0</td></tr>\n",
       "<tr><td>33857304</td><td>2019-09-12 24:00:00</td><td>617714</td><td>970</td><td>58.08</td><td>1900800</td><td>21</td><td>0</td><td>0</td></tr>\n",
       "<tr><td>88556224</td><td>2019-10-17 24:00:00</td><td>536340</td><td>420</td><td>58.0</td><td>4924800</td><td>56</td><td>0</td><td>0</td></tr>\n",
       "<tr><td>49008592</td><td>2019-09-22 24:00:00</td><td>288952</td><td>145</td><td>30.08</td><td>2764800</td><td>31</td><td>0</td><td>0</td></tr>\n",
       "</table>\n",
       "only showing top 20 rows\n"
      ],
      "text/plain": [
       "+--------------+-------------------+-----------+-----------+---------+---------------+------------+--------+-----------------+\n",
       "|transaction_id|        tx_datetime|customer_id|terminal_id|tx_amount|tx_time_seconds|tx_time_days|tx_fraud|tx_fraud_scenario|\n",
       "+--------------+-------------------+-----------+-----------+---------+---------------+------------+--------+-----------------+\n",
       "|       8895993|2019-08-27 24:00:00|     680343|        312|   119.13|         518400|           5|       0|                0|\n",
       "|      32550907|2019-09-11 24:00:00|     783981|        132|     9.71|        1814400|          20|       0|                0|\n",
       "|      13334429|2019-08-30 24:00:00|     515724|        971|     6.82|         777600|           8|       1|                2|\n",
       "|      86040345|2019-10-15 24:00:00|     931059|        936|     4.42|        4752000|          54|       0|                0|\n",
       "|      32949123|2019-09-12 24:00:00|      37940|        554|    55.54|        1900800|          21|       0|                0|\n",
       "|      69858189|2019-10-05 24:00:00|     600054|        352|     9.34|        3888000|          44|       0|                0|\n",
       "|      76299966|2019-10-09 24:00:00|     711712|        226|     11.2|        4233600|          48|       0|                0|\n",
       "|      24144197|2019-09-06 24:00:00|     415580|        857|    85.66|        1382400|          15|       1|                2|\n",
       "|      36545600|2019-09-14 24:00:00|     334010|        527|    44.97|        2073600|          23|       0|                0|\n",
       "|      22571066|2019-09-05 24:00:00|     412353|         32|    90.91|        1296000|          14|       0|                0|\n",
       "|      39761540|2019-09-16 24:00:00|     386904|        824|    34.95|        2246400|          25|       0|                0|\n",
       "|      74129820|2019-10-08 24:00:00|     326795|         80|    35.64|        4147200|          47|       0|                0|\n",
       "|      72742279|2019-10-07 24:00:00|     440497|        567|    35.39|        4060800|          46|       0|                0|\n",
       "|      28365209|2019-09-09 24:00:00|     111326|        893|    59.06|        1641600|          18|       0|                0|\n",
       "|      58867527|2019-09-28 24:00:00|     583076|        146|    79.57|        3283200|          37|       0|                0|\n",
       "|      35795067|2019-09-13 24:00:00|     854863|        145|     59.7|        1987200|          22|       0|                0|\n",
       "|      35733785|2019-09-13 24:00:00|     815745|        145|   119.97|        1987200|          22|       0|                0|\n",
       "|      33857304|2019-09-12 24:00:00|     617714|        970|    58.08|        1900800|          21|       0|                0|\n",
       "|      88556224|2019-10-17 24:00:00|     536340|        420|     58.0|        4924800|          56|       0|                0|\n",
       "|       7400630|2019-08-26 24:00:00|     724910|        891|    63.98|         432000|           4|       0|                0|\n",
       "+--------------+-------------------+-----------+-----------+---------+---------------+------------+--------+-----------------+\n",
       "only showing top 20 rows"
      ]
     },
     "execution_count": 9,
     "metadata": {},
     "output_type": "execute_result"
    }
   ],
   "source": [
    "from pyspark.sql.functions import unix_timestamp\n",
    "df.exceptAll(df.withColumn(\"tx_datetime\", unix_timestamp(\"tx_datetime\", \"yyyy-MM-dd HH:mm:ss\").cast(\"timestamp\")))"
   ]
  },
  {
   "cell_type": "markdown",
   "id": "c08dcbc8-a25d-40c7-8cb8-8b740b8b6db3",
   "metadata": {},
   "source": [
    "Удаление найденных неправильных дат:"
   ]
  },
  {
   "cell_type": "code",
   "execution_count": null,
   "id": "68bc59ca",
   "metadata": {
    "scrolled": true
   },
   "outputs": [],
   "source": [
    "from pyspark.sql.functions import unix_timestamp\n",
    "df=df.withColumn(\"tx_datetime\", unix_timestamp(\"tx_datetime\", \"yyyy-MM-dd HH:mm:ss\").cast(\"timestamp\"))"
   ]
  },
  {
   "cell_type": "markdown",
   "id": "53f10294-cda7-4c2d-b9a9-2d3383ee4620",
   "metadata": {},
   "source": [
    "Функция для удаления выбросов:"
   ]
  },
  {
   "cell_type": "code",
   "execution_count": 12,
   "id": "71c9fed2",
   "metadata": {
    "scrolled": true
   },
   "outputs": [],
   "source": [
    "from pyspark.sql.functions import col\n",
    "def remove_outliers_iqr(df, columns):\n",
    "    for col_name in columns:\n",
    "        quantiles = df.approxQuantile(col_name, [0.25, 0.75], 0.05)\n",
    "        q1 = quantiles[0]\n",
    "        q3 = quantiles[1]\n",
    "        iqr = q3 - q1\n",
    "        lower_bound = q1 - 1.5 * iqr\n",
    "        upper_bound = q3 + 1.5 * iqr\n",
    "        df = df.filter((col(col_name) >= lower_bound) & (col(col_name) <= upper_bound))\n",
    "    return df"
   ]
  },
  {
   "cell_type": "markdown",
   "id": "bfa89c43-6fd2-4333-9ff8-696706e4c6fc",
   "metadata": {},
   "source": [
    "Вывод первых 20 найденных выбросов:"
   ]
  },
  {
   "cell_type": "code",
   "execution_count": 13,
   "id": "95bf6e88",
   "metadata": {
    "scrolled": true
   },
   "outputs": [
    {
     "data": {
      "text/html": [
       "<table border='1'>\n",
       "<tr><th>transaction_id</th><th>tx_datetime</th><th>customer_id</th><th>terminal_id</th><th>tx_amount</th><th>tx_time_seconds</th><th>tx_time_days</th><th>tx_fraud</th><th>tx_fraud_scenario</th></tr>\n",
       "<tr><td>5190194</td><td>2019-08-25 04:56:34</td><td>313745</td><td>89518096</td><td>102.99</td><td>276994</td><td>3</td><td>0</td><td>0</td></tr>\n",
       "<tr><td>5555898</td><td>2019-08-25 17:59:23</td><td>546992</td><td>89518096</td><td>24.7</td><td>323963</td><td>3</td><td>0</td><td>0</td></tr>\n",
       "<tr><td>5720560</td><td>2019-08-25 11:15:35</td><td>652202</td><td>89518096</td><td>47.52</td><td>299735</td><td>3</td><td>0</td><td>0</td></tr>\n",
       "<tr><td>5930732</td><td>2019-08-25 11:50:28</td><td>785793</td><td>89518096</td><td>29.21</td><td>301828</td><td>3</td><td>0</td><td>0</td></tr>\n",
       "<tr><td>5937076</td><td>2019-08-25 09:06:18</td><td>789788</td><td>89518096</td><td>10.78</td><td>291978</td><td>3</td><td>0</td><td>0</td></tr>\n",
       "<tr><td>6033043</td><td>2019-08-25 17:38:57</td><td>851126</td><td>89518096</td><td>106.48</td><td>322737</td><td>3</td><td>0</td><td>0</td></tr>\n",
       "<tr><td>6623137</td><td>2019-08-26 11:49:11</td><td>228250</td><td>89518096</td><td>26.24</td><td>388151</td><td>4</td><td>0</td><td>0</td></tr>\n",
       "<tr><td>12406682</td><td>2019-08-29 17:34:09</td><td>922218</td><td>89518096</td><td>19.19</td><td>668049</td><td>7</td><td>0</td><td>0</td></tr>\n",
       "<tr><td>13346487</td><td>2019-08-30 13:55:20</td><td>523525</td><td>89518096</td><td>7.16</td><td>741320</td><td>8</td><td>0</td><td>0</td></tr>\n",
       "<tr><td>13551395</td><td>2019-08-30 10:55:15</td><td>654007</td><td>89518096</td><td>11.65</td><td>730515</td><td>8</td><td>0</td><td>0</td></tr>\n",
       "<tr><td>18594413</td><td>2019-09-02 17:47:13</td><td>874215</td><td>89518096</td><td>28.44</td><td>1014433</td><td>11</td><td>0</td><td>0</td></tr>\n",
       "<tr><td>18780334</td><td>2019-09-02 11:11:20</td><td>992685</td><td>89518096</td><td>0.13</td><td>990680</td><td>11</td><td>0</td><td>0</td></tr>\n",
       "<tr><td>19838716</td><td>2019-09-03 14:02:02</td><td>668549</td><td>89518096</td><td>113.67</td><td>1087322</td><td>12</td><td>0</td><td>0</td></tr>\n",
       "<tr><td>20085391</td><td>2019-09-03 06:15:17</td><td>825776</td><td>89518096</td><td>22.69</td><td>1059317</td><td>12</td><td>0</td><td>0</td></tr>\n",
       "<tr><td>20266714</td><td>2019-09-03 21:48:35</td><td>941390</td><td>89518096</td><td>3.99</td><td>1115315</td><td>12</td><td>0</td><td>0</td></tr>\n",
       "<tr><td>25202927</td><td>2019-09-07 11:23:40</td><td>91869</td><td>89518096</td><td>88.46</td><td>1423420</td><td>16</td><td>0</td><td>0</td></tr>\n",
       "<tr><td>25268844</td><td>2019-09-07 10:17:48</td><td>134050</td><td>89518096</td><td>49.52</td><td>1419468</td><td>16</td><td>0</td><td>0</td></tr>\n",
       "<tr><td>25307535</td><td>2019-09-07 13:05:19</td><td>158788</td><td>89518096</td><td>41.97</td><td>1429519</td><td>16</td><td>0</td><td>0</td></tr>\n",
       "<tr><td>25334171</td><td>2019-09-07 07:46:15</td><td>175820</td><td>89518096</td><td>7.75</td><td>1410375</td><td>16</td><td>0</td><td>0</td></tr>\n",
       "<tr><td>25573927</td><td>2019-09-07 03:52:22</td><td>328983</td><td>89518096</td><td>76.76</td><td>1396342</td><td>16</td><td>0</td><td>0</td></tr>\n",
       "</table>\n",
       "only showing top 20 rows\n"
      ],
      "text/plain": [
       "+--------------+-------------------+-----------+-----------+---------+---------------+------------+--------+-----------------+\n",
       "|transaction_id|        tx_datetime|customer_id|terminal_id|tx_amount|tx_time_seconds|tx_time_days|tx_fraud|tx_fraud_scenario|\n",
       "+--------------+-------------------+-----------+-----------+---------+---------------+------------+--------+-----------------+\n",
       "|       3826202|2019-08-24 07:41:45|     443466|      21861|    26.13|         200505|           2|       0|                0|\n",
       "|       9819377|2019-08-28 14:41:23|     270297|      21861|    66.45|         571283|           6|       0|                0|\n",
       "|       9924523|2019-08-28 13:45:12|     337185|   89518096|   141.59|         567912|           6|       0|                0|\n",
       "|       9979608|2019-08-28 12:40:09|     372432|   89518096|    26.09|         564009|           6|       0|                0|\n",
       "|       9981293|2019-08-28 12:52:28|     373493|   89518096|     82.1|         564748|           6|       0|                0|\n",
       "|      10291293|2019-08-28 11:28:13|     571393|   89518096|   107.89|         559693|           6|       0|                0|\n",
       "|      16441941|2019-09-01 11:43:44|     500617|      21861|    28.03|         906224|          10|       0|                0|\n",
       "|      16926149|2019-09-01 15:56:19|     808771|   89518096|    33.46|         921379|          10|       0|                0|\n",
       "|      17819833|2019-09-02 08:22:01|     380155|   89518096|    18.59|         980521|          11|       0|                0|\n",
       "|      21318572|2019-09-04 04:36:46|     612735|   89518096|     9.51|        1139806|          13|       0|                0|\n",
       "|      21890341|2019-09-04 09:34:12|     977043|   89518096|    82.92|        1157652|          13|       0|                0|\n",
       "|      22097112|2019-09-05 11:02:47|     109907|   89518096|    11.59|        1249367|          14|       0|                0|\n",
       "|      22336002|2019-09-05 07:13:24|     262688|   89518096|     67.5|        1235604|          14|       0|                0|\n",
       "|      22670413|2019-09-05 11:27:23|     475756|   89518096|    79.59|        1250843|          14|       0|                0|\n",
       "|      22892010|2019-09-05 22:21:00|     617164|   89518096|     48.8|        1290060|          14|       0|                0|\n",
       "|      29660458|2019-09-09 05:14:35|     937946|   89518096|   128.33|        1574075|          18|       0|                0|\n",
       "|      47362434|2019-09-21 11:53:27|     239406|   89518096|    71.14|        2634807|          30|       0|                0|\n",
       "|      47392780|2019-09-21 07:49:27|    -999999|        481|    74.61|        2620167|          30|       0|                0|\n",
       "|      48484096|2019-09-21 06:34:09|     953746|       null|    48.48|        2615649|          30|       1|                2|\n",
       "|      50569406|2019-09-23 05:44:35|     284626|   89518096|   127.88|        2785475|          32|       0|                0|\n",
       "+--------------+-------------------+-----------+-----------+---------+---------------+------------+--------+-----------------+\n",
       "only showing top 20 rows"
      ]
     },
     "execution_count": 13,
     "metadata": {},
     "output_type": "execute_result"
    }
   ],
   "source": [
    "df.exceptAll(remove_outliers_iqr(df,[\"customer_id\", \"terminal_id\", \"tx_time_seconds\",\"transaction_id\", \"tx_time_days\"]))"
   ]
  },
  {
   "cell_type": "markdown",
   "id": "77cd5d19-15e4-481e-b31c-65d0f0348525",
   "metadata": {},
   "source": [
    "Удаление найденных выбросов:"
   ]
  },
  {
   "cell_type": "code",
   "execution_count": null,
   "id": "5fbd7096",
   "metadata": {
    "scrolled": true
   },
   "outputs": [],
   "source": [
    "df=remove_outliers_iqr(df,[\"customer_id\", \"terminal_id\", \"tx_time_seconds\",\"transaction_id\", \"tx_time_days\"])"
   ]
  },
  {
   "cell_type": "markdown",
   "id": "81d6efcb-74ad-4208-988d-2ec704350429",
   "metadata": {},
   "source": [
    "Сортировка id транзакций от меньшего к большему:"
   ]
  },
  {
   "cell_type": "code",
   "execution_count": null,
   "id": "954f3da8",
   "metadata": {
    "scrolled": true
   },
   "outputs": [],
   "source": [
    "df=df.orderBy(\"transaction_id\")"
   ]
  },
  {
   "cell_type": "markdown",
   "id": "bf83dae1-0f61-450c-8551-82bcb8609d5d",
   "metadata": {},
   "source": [
    "Вывод первых 20 значений датафрейма:"
   ]
  },
  {
   "cell_type": "code",
   "execution_count": null,
   "id": "d62b72c8",
   "metadata": {
    "scrolled": true
   },
   "outputs": [],
   "source": [
    "df"
   ]
  },
  {
   "cell_type": "markdown",
   "id": "f6a9d823-9dce-4464-8aee-8e7ba9d7c0bf",
   "metadata": {},
   "source": [
    "Запись в bucket:"
   ]
  },
  {
   "cell_type": "code",
   "execution_count": null,
   "id": "21a8732d",
   "metadata": {
    "scrolled": true
   },
   "outputs": [],
   "source": [
    "df = df.repartition(40)\n",
    "df.write.mode(\"overwrite\").option(\"header\", \"true\").parquet(\"s3a://ducket4/filespark\") "
   ]
  },
  {
   "cell_type": "markdown",
   "id": "ccbc127d-d36c-4c68-be9e-3f6276778ddc",
   "metadata": {
    "scrolled": true
   },
   "source": [
    "Остановка сессии spark:"
   ]
  },
  {
   "cell_type": "code",
   "execution_count": 14,
   "id": "904cc552",
   "metadata": {
    "scrolled": true
   },
   "outputs": [],
   "source": [
    "spark.stop()"
   ]
  },
  {
   "cell_type": "code",
   "execution_count": null,
   "id": "c0ed8efe",
   "metadata": {},
   "outputs": [],
   "source": []
  }
 ],
 "metadata": {
  "kernelspec": {
   "display_name": "Python 3",
   "language": "python",
   "name": "python3"
  },
  "language_info": {
   "codemirror_mode": {
    "name": "ipython",
    "version": 3
   },
   "file_extension": ".py",
   "mimetype": "text/x-python",
   "name": "python",
   "nbconvert_exporter": "python",
   "pygments_lexer": "ipython3",
   "version": "3.8.10"
  }
 },
 "nbformat": 4,
 "nbformat_minor": 5
}
